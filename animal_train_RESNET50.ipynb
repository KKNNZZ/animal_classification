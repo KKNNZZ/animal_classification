{
 "cells": [
  {
   "cell_type": "markdown",
   "id": "aadf2aaf-3d5d-4ae2-aff7-f68f564cf990",
   "metadata": {},
   "source": [
    "# Image Classification with Pre-trained ResNet-50 using TensorFlow\n",
    "\n",
    "In this JupyterLab notebook, we will explore the process of training an image classification model using the powerful ResNet-50 architecture. ResNet-50 is a deep convolutional neural network known for its exceptional performance in various computer vision tasks. Our implementation will utilize the TensorFlow library, which offers a flexible platform for building and training neural networks.\n",
    "\n",
    "### Objective\n",
    "The primary goal of this notebook is to train an image classification model that can categorize images from a given dataset into distinct classes.\n",
    "\n",
    "### Key Steps\n",
    "1. **Data Preparation:** We will start by preparing our dataset for both training and validation. This involves using the `ImageDataGenerator` class, which efficiently loads, preprocesses, and augments image data.\n",
    "\n",
    "2. **Loading Pre-trained ResNet-50:** To leverage the power of transfer learning, we will load a pre-trained ResNet-50 model using TensorFlow's `keras.applications` module. This pre-trained model has already learned valuable feature representations from a large dataset (ImageNet).\n",
    "\n",
    "3. **Custom Classification Layers:** Building upon the pre-trained ResNet-50 model, we will add custom classification layers. These layers will adapt the model to our specific image classification task.\n",
    "\n",
    "4. **Model Compilation:** We will compile the model by specifying the optimizer, loss function, and evaluation metrics. This step prepares the model for training.\n",
    "\n",
    "5. **Training:** Our next step involves training the model using the prepared training data. During training, the model's parameters will be fine-tuned to improve classification accuracy.\n",
    "\n",
    "6. **Model Evaluation:** After training is complete, we will assess the model's performance using various metrics and visualizations.\n",
    "\n",
    "7. **Saving the Model:** Finally, we will save the trained model's weights and architecture to an HDF5 file. This allows us to reuse the model later for inference without needing to retrain it.\n"
   ]
  },
  {
   "cell_type": "code",
   "execution_count": 1,
   "id": "d65e01a8-4fed-48bc-8aec-2ab701ed7c21",
   "metadata": {},
   "outputs": [
    {
     "name": "stdout",
     "output_type": "stream",
     "text": [
      "Loading existing model.\n",
      "Model is ready for inference.\n"
     ]
    }
   ],
   "source": [
    "import os\n",
    "import tensorflow as tf\n",
    "from tensorflow.keras.applications import ResNet50\n",
    "from tensorflow.keras.preprocessing.image import ImageDataGenerator\n",
    "from tensorflow.keras.layers import Dense, GlobalAveragePooling2D\n",
    "from tensorflow.keras.models import Model, load_model\n",
    "\n",
    "# Path to the model file\n",
    "model_file_path = './animal_models/resnet_model_tf.h5'\n",
    "\n",
    "# Check if model file already exists\n",
    "if os.path.exists(model_file_path):\n",
    "    # Load the existing model\n",
    "    print(\"Loading existing model.\")\n",
    "    model = load_model(model_file_path)\n",
    "else:\n",
    "    # Load and preprocess data using ImageDataGenerator\n",
    "    train_datagen = ImageDataGenerator(rescale=1.0/255, validation_split=0.2)\n",
    "    train_generator = train_datagen.flow_from_directory(\n",
    "        'dataset',\n",
    "        target_size=(224, 224),\n",
    "        batch_size=32,\n",
    "        class_mode='categorical',\n",
    "        subset='training'\n",
    "    )\n",
    "\n",
    "    validation_generator = train_datagen.flow_from_directory(\n",
    "        'dataset',\n",
    "        target_size=(224, 224),\n",
    "        batch_size=32,\n",
    "        class_mode='categorical',\n",
    "        subset='validation'\n",
    "    )\n",
    "\n",
    "    # Determine the number of classes based on the generator\n",
    "    num_classes = len(train_generator.class_indices)\n",
    "\n",
    "    # Load the pre-trained ResNet-50 model\n",
    "    base_model = ResNet50(weights='imagenet', include_top=False)\n",
    "\n",
    "    # Add custom classification layers on top of the pre-trained model\n",
    "    x = base_model.output\n",
    "    x = GlobalAveragePooling2D()(x)\n",
    "    x = Dense(1024, activation='relu')(x)\n",
    "    predictions = Dense(num_classes, activation='softmax')(x)\n",
    "\n",
    "    model = Model(inputs=base_model.input, outputs=predictions)\n",
    "\n",
    "    # Compile the model\n",
    "    model.compile(optimizer=tf.keras.optimizers.Adam(learning_rate=0.001),\n",
    "                  loss='categorical_crossentropy',\n",
    "                  metrics=['accuracy'])\n",
    "\n",
    "    # Training\n",
    "    print(\"Training the model.\")\n",
    "    num_epochs = 10\n",
    "    history = model.fit(train_generator, epochs=num_epochs, validation_data=validation_generator)\n",
    "\n",
    "    # Save the trained model as an HDF5 file\n",
    "    print(\"Saving the trained model.\")\n",
    "    os.makedirs('./animal_models', exist_ok=True)\n",
    "    model.save(model_file_path)\n",
    "\n",
    "print(\"Model is ready for inference.\")"
   ]
  },
  {
   "cell_type": "code",
   "execution_count": null,
   "id": "6f71f31a-4a33-44a4-95fd-ed043e61c072",
   "metadata": {},
   "outputs": [],
   "source": []
  }
 ],
 "metadata": {
  "kernelspec": {
   "display_name": "Python 3 (ipykernel)",
   "language": "python",
   "name": "python3"
  },
  "language_info": {
   "codemirror_mode": {
    "name": "ipython",
    "version": 3
   },
   "file_extension": ".py",
   "mimetype": "text/x-python",
   "name": "python",
   "nbconvert_exporter": "python",
   "pygments_lexer": "ipython3",
   "version": "3.10.9"
  }
 },
 "nbformat": 4,
 "nbformat_minor": 5
}
